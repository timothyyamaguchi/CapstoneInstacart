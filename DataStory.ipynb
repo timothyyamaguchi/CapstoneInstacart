{
 "cells": [
  {
   "cell_type": "code",
   "execution_count": 2,
   "metadata": {
    "collapsed": true
   },
   "outputs": [],
   "source": [
    "# Importing the libraries\n",
    "\n",
    "import pandas as pd"
   ]
  },
  {
   "cell_type": "code",
   "execution_count": 5,
   "metadata": {
    "collapsed": true
   },
   "outputs": [],
   "source": [
    "# Importing the files\n",
    "\n",
    "aisles = pd.read_csv('aisles.csv')\n",
    "departments = pd.read_csv('departments.csv')\n",
    "order_products_prior = pd.read_csv('order_products_prior.csv')\n",
    "order_products_train = pd.read_csv('order_products_train.csv')\n",
    "orders = pd.read_csv('orders.csv')\n",
    "products = pd.read_csv('products.csv')"
   ]
  },
  {
   "cell_type": "code",
   "execution_count": 9,
   "metadata": {
    "collapsed": false
   },
   "outputs": [
    {
     "name": "stdout",
     "output_type": "stream",
     "text": [
      "These are the most frequently reordered products\n",
      "Banana                    472565\n",
      "Bag of Organic Bananas    379450\n",
      "Organic Strawberries      264683\n",
      "Organic Baby Spinach      241921\n",
      "Organic Hass Avocado      213584\n",
      "Organic Avocado           176815\n",
      "Large Lemon               152657\n",
      "Strawberries              142951\n",
      "Limes                     140627\n",
      "Organic Whole Milk        137905\n",
      "Name: product_name, dtype: int64\n",
      "These are the least frequently reordered products\n",
      "Vitality Chicken Breasts with Flaxseed & Vitamins Dog Treats    1\n",
      "Water With Electrolytes                                         1\n",
      "Chelated Magnesium 250 Mg Gluten Free                           1\n",
      "Ginseng Vitality Tea                                            1\n",
      "Indian Wells Merlot                                             1\n",
      "Organic Finely Shredded Sharp Cheddar Cheese                    1\n",
      "Greek Pitted Kalamata Olives                                    1\n",
      "Blackened Turkey                                                1\n",
      "Vanilla Latte Iced Coffee Drink                                 1\n",
      "Sloppy Joe Sandwich Makers                                      1\n",
      "Name: product_name, dtype: int64\n"
     ]
    }
   ],
   "source": [
    "# To count how  many times a product was previously ordered\n",
    "\n",
    "prev_order = order_products_prior.product_id\n",
    "product_list = pd.DataFrame(products.product_name)\n",
    "product_list.index = products.product_id\n",
    "\n",
    "prev_order_list = pd.DataFrame(prev_order)\n",
    "prev_order_list.index = prev_order_list.product_id\n",
    "prev_order_list = prev_order_list.join(product_list,how = 'right')\n",
    "prev_order_list.head()\n",
    "print 'These are the most frequently reordered products'\n",
    "print prev_order_list.product_name.value_counts().head(10)\n",
    "print 'These are the least frequently reordered products'\n",
    "print prev_order_list.product_name.value_counts().tail(10)"
   ]
  },
  {
   "cell_type": "code",
   "execution_count": 7,
   "metadata": {
    "collapsed": true
   },
   "outputs": [],
   "source": [
    "# Indexing the departments and aisles\n",
    "\n",
    "departments.index = departments.department_id\n",
    "departments = departments.department\n",
    "aisles.index = aisles.aisle_id\n",
    "aisles = aisles.aisle"
   ]
  },
  {
   "cell_type": "code",
   "execution_count": 8,
   "metadata": {
    "collapsed": true
   },
   "outputs": [],
   "source": [
    "# To create a usable base dataframe without IDs\n",
    "\n",
    "base_products = products.join(aisles, on = 'aisle_id', how = 'right')\n",
    "base_products = base_products.join(departments, on = 'department_id', how = 'right')\n",
    "base_products.index = base_products.product_id\n",
    "base_products = base_products[['product_name', 'aisle', 'department']].sort_index()\n",
    "base_products['organic'] = (base_products['product_name'].str.contains('Organic')).astype(int)"
   ]
  },
  {
   "cell_type": "code",
   "execution_count": 11,
   "metadata": {
    "collapsed": false
   },
   "outputs": [
    {
     "name": "stdout",
     "output_type": "stream",
     "text": [
      "The total number of products is: \n",
      "49688\n",
      "The total number of organic products is: \n",
      "5035\n"
     ]
    }
   ],
   "source": [
    "# To determine how many organic products there are\n",
    "\n",
    "print 'The total number of products is: '\n",
    "print len(base_products)\n",
    "organic_products = base_products[base_products['product_name'].str.contains('Organic')]\n",
    "print 'The total number of organic products is: '\n",
    "print len(organic_products)"
   ]
  },
  {
   "cell_type": "code",
   "execution_count": 12,
   "metadata": {
    "collapsed": true
   },
   "outputs": [],
   "source": [
    "# Selecting the train and test dataframe\n",
    "\n",
    "order_num = order_products_train.order_id.unique()\n",
    "order_num = pd.DataFrame(order_num)\n",
    "order_num_exp = order_num.sample(n=12000).sort_index()\n",
    "order_num_exp['order_id'] = order_num_exp.astype(int)\n",
    "order_num_exp['in_test'] = 1\n",
    "order_num_exp.index = order_num_exp.order_id\n",
    "\n",
    "order_products_train.index = order_products_train.order_id\n",
    "\n",
    "order_num_exp = order_num_exp.in_test\n",
    "order_products_exp = order_products_train.join(order_num_exp, on = 'order_id', how = 'right')\n",
    "order_products_exp = order_products_exp.join(base_products, on = 'product_id', how = 'right')"
   ]
  },
  {
   "cell_type": "code",
   "execution_count": 15,
   "metadata": {
    "collapsed": false
   },
   "outputs": [
    {
     "name": "stdout",
     "output_type": "stream",
     "text": [
      "The most common products are: \n",
      "Banana                    1668\n",
      "Bag of Organic Bananas    1456\n",
      "Organic Strawberries       987\n",
      "Organic Baby Spinach       855\n",
      "Large Lemon                727\n",
      "Organic Hass Avocado       684\n",
      "Organic Avocado            654\n",
      "Strawberries               555\n",
      "Limes                      506\n",
      "Organic Whole Milk         491\n",
      "Organic Raspberries        491\n",
      "Organic Blueberries        464\n",
      "Organic Zucchini           454\n",
      "Organic Cucumber           418\n",
      "Seedless Red Grapes        383\n",
      "Organic Yellow Onion       383\n",
      "Organic Grape Tomatoes     366\n",
      "Organic Garlic             366\n",
      "Organic Red Onion          349\n",
      "Asparagus                  339\n",
      "Name: product_name, dtype: int64\n",
      "The most common aisles are : \n",
      "fresh fruits                     13813\n",
      "fresh vegetables                 13740\n",
      "packaged vegetables fruits        7358\n",
      "yogurt                            5535\n",
      "packaged cheese                   4160\n",
      "water seltzer sparkling water     3564\n",
      "chips pretzels                    3395\n",
      "milk                              3076\n",
      "ice cream ice                     2752\n",
      "soy lactosefree                   2512\n",
      "refrigerated                      2504\n",
      "bread                             2369\n",
      "frozen meals                      2208\n",
      "crackers                          2168\n",
      "frozen produce                    2158\n",
      "energy granola bars               1995\n",
      "eggs                              1877\n",
      "candy chocolate                   1873\n",
      "soup broth bouillon               1815\n",
      "juice nectars                     1789\n",
      "Name: aisle, dtype: int64\n",
      "The most common departments are: \n",
      "produce            37621\n",
      "dairy eggs         21334\n",
      "snacks             14574\n",
      "beverages          13181\n",
      "frozen             11318\n",
      "pantry             10949\n",
      "personal care       7323\n",
      "canned goods        5450\n",
      "household           5407\n",
      "bakery              5087\n",
      "deli                4725\n",
      "dry goods pasta     4522\n",
      "meat seafood        3232\n",
      "breakfast           3207\n",
      "babies              2041\n",
      "international       1894\n",
      "missing             1761\n",
      "alcohol             1299\n",
      "pets                1101\n",
      "other                620\n",
      "Name: department, dtype: int64\n",
      "The number of organic and nonorganic products: \n",
      "0    117408\n",
      "1     39393\n",
      "Name: organic, dtype: int64\n",
      "0 is nonorganic\n",
      "1 is organic\n"
     ]
    }
   ],
   "source": [
    "# Printing the top values for each column from the experiment's data\n",
    "\n",
    "print 'The most common products are: '\n",
    "print order_products_exp['product_name'].value_counts().head(20)\n",
    "print 'The most common aisles are : '\n",
    "print order_products_exp['aisle'].value_counts().head(20)\n",
    "print 'The most common departments are: '\n",
    "print order_products_exp['department'].value_counts().head(20)\n",
    "print 'The number of organic and nonorganic products: '\n",
    "print order_products_exp['organic'].value_counts().head(20)\n",
    "print '0 is nonorganic'\n",
    "print '1 is organic'"
   ]
  }
 ],
 "metadata": {
  "kernelspec": {
   "display_name": "Python 2",
   "language": "python",
   "name": "python2"
  },
  "language_info": {
   "codemirror_mode": {
    "name": "ipython",
    "version": 2
   },
   "file_extension": ".py",
   "mimetype": "text/x-python",
   "name": "python",
   "nbconvert_exporter": "python",
   "pygments_lexer": "ipython2",
   "version": "2.7.13"
  }
 },
 "nbformat": 4,
 "nbformat_minor": 2
}
